{
 "cells": [
  {
   "cell_type": "markdown",
   "metadata": {},
   "source": [
    "# Markdown\n",
    "more details visit [here](https://docs.github.com/en/github/writing-on-github/getting-started-with-writing-and-formatting-on-github/basic-writing-and-formatting-syntax)"
   ]
  },
  {
   "cell_type": "markdown",
   "metadata": {},
   "source": [
    "# h1 tag `(hash space content)`"
   ]
  },
  {
   "cell_type": "markdown",
   "metadata": {},
   "source": [
    "# h1\n",
    "## h2 \n",
    "### h3\n",
    "#### h4\n",
    "#### h5\n",
    "###### h6\n",
    "####### h7"
   ]
  },
  {
   "cell_type": "markdown",
   "metadata": {},
   "source": [
    "styling text\n",
    "coating text\n",
    "coating code\n",
    "links\n",
    "list\n",
    "` nested ol,ul`\n",
    "task list\n",
    "emoji\n"
   ]
  },
  {
   "cell_type": "markdown",
   "metadata": {},
   "source": [
    "# links\n",
    "the youtube link is [this](https://www.youtube.com/)\n",
    "`show text in  [abc]`\n",
    "`link in (www.g.com)`"
   ]
  },
  {
   "cell_type": "markdown",
   "metadata": {},
   "source": [
    "# lists\n",
    "- hi\n",
    "- hello\n",
    "\n",
    "## nested list\n",
    "- greeting\n",
    " - gm\n",
    " - ga\n",
    " - ge\n",
    " - gn\n",
    "\n",
    "# List\n",
    "- `use hyphen(-) space content ->- hi `in every line you want to get a list item \n",
    "# nested List\n",
    "- `use space hyphen( - ) space content -> - hi `in every line you want to get a list item\n",
    "## task list\n",
    "\n",
    "- `- [x]`  -> checked box\n",
    "- `- [ ]`    -> unchecked box\n",
    "- [x] hi\n",
    "- [ ] hello\n",
    "- [ ] gm\n"
   ]
  },
  {
   "cell_type": "markdown",
   "metadata": {},
   "source": [
    "# text formating\n",
    "- **hi** or __hi__ `**text** or __text__` -> bold\n",
    "- *hi* or _hi_  `*text* or _text_`->italic\n",
    "- ~hi~ `~text~`->strike through\n",
    "- ***hi*** `***text***`->bold + italic\n",
    "\n"
   ]
  },
  {
   "cell_type": "markdown",
   "metadata": {},
   "source": [
    "# quoating text\n",
    "> hi \n",
    "\n",
    "`> text\n",
    "    text\n",
    "    text...`->quoted text\n",
    "# quoting code\n",
    "`hi` ` 'enclose text within ` `  ->quoting code\n",
    "\n"
   ]
  },
  {
   "cell_type": "markdown",
   "metadata": {},
   "source": [
    "```hi\n",
    "hiihihi\n",
    "hihih\n",
    "``` -> for paragraph`->3times"
   ]
  },
  {
   "cell_type": "code",
   "execution_count": 14,
   "metadata": {},
   "outputs": [
    {
     "name": "stdout",
     "output_type": "stream",
     "text": [
      "2\n",
      "2.0\n",
      "2.21hi2\n"
     ]
    }
   ],
   "source": [
    "a=2.21\n",
    "b=2\n",
    "print(int(a))\n",
    "print(float(b))\n",
    "print(str(a)+'hi'+str(b))"
   ]
  },
  {
   "cell_type": "markdown",
   "metadata": {},
   "source": [
    "int,float,str,input()"
   ]
  }
 ],
 "metadata": {
  "kernelspec": {
   "display_name": "Python 3",
   "language": "python",
   "name": "python3"
  },
  "language_info": {
   "codemirror_mode": {
    "name": "ipython",
    "version": 3
   },
   "file_extension": ".py",
   "mimetype": "text/x-python",
   "name": "python",
   "nbconvert_exporter": "python",
   "pygments_lexer": "ipython3",
   "version": "3.8.3"
  }
 },
 "nbformat": 4,
 "nbformat_minor": 4
}
