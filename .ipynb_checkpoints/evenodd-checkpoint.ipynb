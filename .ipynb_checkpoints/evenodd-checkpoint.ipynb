{
 "cells": [
  {
   "cell_type": "code",
   "execution_count": 40,
   "metadata": {},
   "outputs": [
    {
     "name": "stdout",
     "output_type": "stream",
     "text": [
      "enter number: 466779\n",
      "[9, 7, 7] [6, 6, 4]\n",
      "the even digits are: 6 6 4 6 6 4 \n",
      "the odd digits are:None\n",
      "9 7 7 "
     ]
    }
   ],
   "source": [
    "def printList(n):\n",
    "    for i in n:\n",
    "        print(i,end=' ')\n",
    "def sumOfList(l):\n",
    "    s=0\n",
    "    for i in l:\n",
    "        s=s+i\n",
    "    return s\n",
    "def length(n):\n",
    "    l=0\n",
    "    while(n>0):\n",
    "        l+=1\n",
    "        n=n//10\n",
    "    return l\n",
    "\n",
    "def odd(n,start,end):\n",
    "    o=[]\n",
    "    while(end>start):\n",
    "        t=n%10\n",
    "        if (not(t%2==0)):\n",
    "            o.append(t)\n",
    "        n=n//10\n",
    "        end=end-1\n",
    "    return o\n",
    "def even(n,start,end):\n",
    "    e=[]\n",
    "    while(end>start):\n",
    "        t=n%10\n",
    "        if t%2==0:\n",
    "            e.append(t)\n",
    "        n=n//10\n",
    "        end-=1\n",
    "    return e\n",
    "\n",
    "n=int(input(\"enter number: \"))\n",
    "oLen=length(n)\n",
    "e=even(n,0,oLen)\n",
    "o=odd(n,0,oLen)\n",
    "\n",
    "print(o,e)\n",
    "print(\"the even digits are:\",end=' ')\n",
    "printList(e)\n",
    "print(\"\\nthe odd digits are:\",end=' ')\n",
    "printList(o)\n",
    "\n",
    "print(\"the left half even numbers are:\")\n"
   ]
  },
  {
   "cell_type": "code",
   "execution_count": 24,
   "metadata": {},
   "outputs": [
    {
     "name": "stdout",
     "output_type": "stream",
     "text": [
      "20 srm\n"
     ]
    }
   ],
   "source": [
    "def f(a,b):\n",
    "    print(a,b)\n",
    "b1=\"srm\"\n",
    "a1=20\n",
    "f(b=b1,a=a1)"
   ]
  }
 ],
 "metadata": {
  "kernelspec": {
   "display_name": "Python 3",
   "language": "python",
   "name": "python3"
  },
  "language_info": {
   "codemirror_mode": {
    "name": "ipython",
    "version": 3
   },
   "file_extension": ".py",
   "mimetype": "text/x-python",
   "name": "python",
   "nbconvert_exporter": "python",
   "pygments_lexer": "ipython3",
   "version": "3.8.3"
  }
 },
 "nbformat": 4,
 "nbformat_minor": 4
}
