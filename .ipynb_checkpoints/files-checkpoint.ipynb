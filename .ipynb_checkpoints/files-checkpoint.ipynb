{
 "cells": [
  {
   "cell_type": "markdown",
   "metadata": {},
   "source": [
    "## Files"
   ]
  },
  {
   "cell_type": "markdown",
   "metadata": {},
   "source": [
    "types of operations on file\n",
    "- read\n",
    "- write\n",
    "- append\n",
    "- execute"
   ]
  },
  {
   "cell_type": "code",
   "execution_count": 2,
   "metadata": {},
   "outputs": [],
   "source": [
    "with open(\"Rawdata/sample.txt\",\"w\") as fw:\n",
    "    fw.write(\"hello World!\")"
   ]
  },
  {
   "cell_type": "code",
   "execution_count": 30,
   "metadata": {},
   "outputs": [
    {
     "name": "stdout",
     "output_type": "stream",
     "text": [
      "hello World!appending dataappending data\n",
      " new line appending\n",
      "\n",
      "[]\n"
     ]
    }
   ],
   "source": [
    "with open(\"Rawdata/sample.txt\",\"r\") as fr:\n",
    "    print(fr.read())\n",
    "    print(fr.readline())\n",
    "    print(fr.readlines())\n"
   ]
  },
  {
   "cell_type": "code",
   "execution_count": 8,
   "metadata": {},
   "outputs": [],
   "source": [
    "with open(\"Rawdata/sample.txt\",\"a\") as fa:\n",
    "    fa.write(\"appending data\\n new line appending\")"
   ]
  },
  {
   "cell_type": "code",
   "execution_count": 10,
   "metadata": {},
   "outputs": [],
   "source": [
    "with open(\"Rawdata/demo.txt\",\"a\") as fa1:\n",
    "    fa1.write(\"fddgh\")"
   ]
  },
  {
   "cell_type": "markdown",
   "metadata": {},
   "source": [
    "input : number\n",
    "output : the is <num>\n",
    "    even  ums ara:...\n",
    "    "
   ]
  },
  {
   "cell_type": "code",
   "execution_count": 43,
   "metadata": {},
   "outputs": [
    {
     "name": "stdout",
     "output_type": "stream",
     "text": [
      "enter a num:29\n"
     ]
    }
   ],
   "source": [
    "n=input(\"enter a num:\")\n",
    "with open(\"Rawdata/input.txt\",\"w\") as ftask1:\n",
    "    ftask1.write(n)\n",
    "with open(\"Rawdata/input.txt\",\"r\") as read1:\n",
    "    with open(\"Rawdata/output.txt\",\"w\") as write1:\n",
    "        write1.write(\"The num is \"+read1.read())\n",
    "        l=[i for i in range(int(n)) if (i%2==0)]\n",
    "        write1.write(\"\\neven nums are:\")\n",
    "        for i in l:\n",
    "            write1.write(\" , \"+str(i))"
   ]
  },
  {
   "cell_type": "code",
   "execution_count": null,
   "metadata": {},
   "outputs": [],
   "source": []
  }
 ],
 "metadata": {
  "kernelspec": {
   "display_name": "Python 3",
   "language": "python",
   "name": "python3"
  },
  "language_info": {
   "codemirror_mode": {
    "name": "ipython",
    "version": 3
   },
   "file_extension": ".py",
   "mimetype": "text/x-python",
   "name": "python",
   "nbconvert_exporter": "python",
   "pygments_lexer": "ipython3",
   "version": "3.8.3"
  }
 },
 "nbformat": 4,
 "nbformat_minor": 4
}
