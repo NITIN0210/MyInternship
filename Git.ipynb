{
 "cells": [
  {
   "cell_type": "markdown",
   "metadata": {},
   "source": [
    "# Git and github"
   ]
  },
  {
   "cell_type": "markdown",
   "metadata": {},
   "source": [
    "download git form [here](https://git-scm.com/)\n",
    "\n",
    "Install it \n"
   ]
  },
  {
   "cell_type": "markdown",
   "metadata": {},
   "source": [
    "open a folder for projects\n",
    "\n",
    "open git bash from that folder"
   ]
  },
  {
   "cell_type": "markdown",
   "metadata": {},
   "source": [
    "# create file in folder\n",
    "\n",
    "command:\n",
    "- `touch <filename.extemsion>`\n",
    "- `touch <filename1.extemsion> <filename2.extemsion>.....n files`"
   ]
  },
  {
   "cell_type": "markdown",
   "metadata": {},
   "source": [
    "# listing files or folders\n",
    "command:\n",
    "- `ls`         ->all files and folders\n",
    "- `ls -a`     ->hidden files\n",
    "- `ls -m`    ->comma seperated list \n",
    "- `ls -l`      ->list with details and permissions\n"
   ]
  },
  {
   "cell_type": "markdown",
   "metadata": {},
   "source": [
    "# remove files\n",
    "command:\n",
    "- `rm <filename.extension>`\n",
    "- `rm <filename1.extemsion> <filename2.extemsion>.....n files`"
   ]
  },
  {
   "cell_type": "markdown",
   "metadata": {},
   "source": [
    "# git repository\n",
    "\n",
    "to initialize a repository\n",
    "\n",
    "command:\n",
    "`git init`\n",
    "\n",
    "by default it creates a branch MAIN/MASTER"
   ]
  },
  {
   "cell_type": "markdown",
   "metadata": {},
   "source": [
    "# status\n",
    "command: `git status`\n",
    "### untracked file to tracked(yet to commit)\n",
    "- `git add <filename.extemsion>`  -> single file\n",
    "- `git add .`                              -> all files\n",
    "### to create checkpoint (commit)\n",
    "command:\n",
    "- `git commit -m \"message/name\"`\n",
    "-> you get warning about for which user?\n",
    "\n",
    "for that we need to specify user id and email\n",
    "command:\n",
    "- `git config --global user.name \"name\" `->for entire system\n",
    "- `git config  user.name \"name\" `->for present folder\n",
    "- `git config --global user.email \"github-mail\" `->for entire system\n",
    "- `git config user.email \"github-mail\" `->for present folder\n",
    "to get those name and emails\n",
    "command:\n",
    "- `git config user.<name/mail>`\n"
   ]
  },
  {
   "cell_type": "markdown",
   "metadata": {},
   "source": [
    "### now commit the files\n",
    "\n",
    "now after commit you get some details along with key(7chars)\n",
    "\n",
    "it is part of sha key using name/message of commit\n",
    "\n",
    "to verify use \n",
    "- `git log`-> all details\n",
    "- `git log --oneline` ->few details\n",
    "- `git log --reverse` ->to get details in reverse orde\n",
    "- count of commits\n",
    "    - `git rev-list HEAD --count`->to get total commits count"
   ]
  },
  {
   "cell_type": "markdown",
   "metadata": {},
   "source": [
    "## all commits are save locally\n",
    "- to save globally..\n",
    "- first create repository with branch name same as that created locally(master)\n",
    "    - using settings change branch\n",
    "- now click on CODE\n",
    "    - https\n",
    "    - ssh\n",
    "    - github cli\n",
    "        - copy url from https:\n",
    "        and type command:\n",
    "        - `git remote add <name> \"copied-url\"`\n",
    "        - `git remote` -> to list remotes..\n",
    "        - `git remote -v`->fetch,push..\n",
    "        - `git push <remote-name> master`->enter user id and pswd\n",
    "            - you might get an error for first time\n",
    "            - so use `git push -f <remote-name> master`\n",
    "        - you can refresh and see in your github account\n",
    "        \n",
    "        - additional\n",
    "            - `git remote remove <remote-name>`->to remove a remote"
   ]
  },
  {
   "cell_type": "markdown",
   "metadata": {},
   "source": [
    "# Pull\n",
    "make some changes in online(github) and to reflect those changes in offline we need to use **PULL**\n",
    "- `git pull <reote-name> <branch-namea(say master)>`\n",
    "\n",
    "**__without git pull you could not use git push(only in case when pull needs to be done..__**\n",
    " i.e when you change online and use push offline it ask for push first..\n",
    " "
   ]
  },
  {
   "cell_type": "markdown",
   "metadata": {},
   "source": [
    "### Moving from one commit point to another\n",
    "- `git checkout <commit-value--7 char hash value>`->rolls back to specified commit point in local repo i.e offline\n",
    "\n",
    "and also we would get only versions before the specified versins(say we have 7 commits::: and moved from 7th to 4th then the available commits are only 4::: 5,6,7 will be deleted\n",
    "\n",
    "- `git checkout <branch naem(master>`-> to come to present commit->so we can say the above deletion is not permanent\n"
   ]
  }
 ],
 "metadata": {
  "kernelspec": {
   "display_name": "Python 3",
   "language": "python",
   "name": "python3"
  },
  "language_info": {
   "codemirror_mode": {
    "name": "ipython",
    "version": 3
   },
   "file_extension": ".py",
   "mimetype": "text/x-python",
   "name": "python",
   "nbconvert_exporter": "python",
   "pygments_lexer": "ipython3",
   "version": "3.8.3"
  }
 },
 "nbformat": 4,
 "nbformat_minor": 4
}
