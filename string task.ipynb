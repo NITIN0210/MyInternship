{
 "cells": [
  {
   "cell_type": "markdown",
   "metadata": {},
   "source": [
    "## string methods\n",
    "\n"
   ]
  },
  {
   "cell_type": "code",
   "execution_count": 25,
   "metadata": {},
   "outputs": [
    {
     "name": "stdout",
     "output_type": "stream",
     "text": [
      "['__add__', '__class__', '__contains__', '__delattr__', '__dir__', '__doc__', '__eq__', '__format__', '__ge__', '__getattribute__', '__getitem__', '__getnewargs__', '__gt__', '__hash__', '__init__', '__init_subclass__', '__iter__', '__le__', '__len__', '__lt__', '__mod__', '__mul__', '__ne__', '__new__', '__reduce__', '__reduce_ex__', '__repr__', '__rmod__', '__rmul__', '__setattr__', '__sizeof__', '__str__', '__subclasshook__', 'capitalize', 'casefold', 'center', 'count', 'encode', 'endswith', 'expandtabs', 'find', 'format', 'format_map', 'index', 'isalnum', 'isalpha', 'isascii', 'isdecimal', 'isdigit', 'isidentifier', 'islower', 'isnumeric', 'isprintable', 'isspace', 'istitle', 'isupper', 'join', 'ljust', 'lower', 'lstrip', 'maketrans', 'partition', 'replace', 'rfind', 'rindex', 'rjust', 'rpartition', 'rsplit', 'rstrip', 'split', 'splitlines', 'startswith', 'strip', 'swapcase', 'title', 'translate', 'upper', 'zfill']\n"
     ]
    }
   ],
   "source": [
    "print(dir(str))"
   ]
  },
  {
   "cell_type": "markdown",
   "metadata": {},
   "source": [
    "## string task"
   ]
  },
  {
   "cell_type": "code",
   "execution_count": 34,
   "metadata": {},
   "outputs": [
    {
     "name": "stdout",
     "output_type": "stream",
     "text": [
      "enter a string:#skkb9j90h89b f%IGBLL&vI^&ESVIt76eSXUYb\n",
      "the alphabets are:['s', 'k', 'k', 'b', 'j', 'h', 'b', 'f', 'I', 'G', 'B', 'L', 'L', 'v', 'I', 'E', 'S', 'V', 'I', 't', 'e', 'S', 'X', 'U', 'Y', 'b']\n",
      "the numbers are:['9', '9', '0', '8', '9', '7', '6']\n",
      "the symbols are:['#', ' ', '%', '&', '^', '&']\n"
     ]
    }
   ],
   "source": [
    "str1=input(\"enter a string:\")\n",
    "alpha=[]\n",
    "digit=[]\n",
    "symbol=[]\n",
    "for i in str1:\n",
    "    if(i.isalpha()):\n",
    "        alpha.append(i)\n",
    "    elif(i.isdigit()):\n",
    "        digit.append(i)\n",
    "    else:\n",
    "        symbol.append(i)\n",
    "print(\"the alphabets are:{}\\nthe numbers are:{}\\nthe symbols are:{}\".format(alpha,digit,symbol))\n",
    "#skkb9j90h89b f%IGBLL&vI^&ESVIt76eSXUYb"
   ]
  },
  {
   "cell_type": "code",
   "execution_count": 30,
   "metadata": {},
   "outputs": [
    {
     "name": "stdout",
     "output_type": "stream",
     "text": [
      "Help on method_descriptor:\n",
      "\n",
      "isalnum(self, /)\n",
      "    Return True if the string is an alpha-numeric string, False otherwise.\n",
      "    \n",
      "    A string is alpha-numeric if all characters in the string are alpha-numeric and\n",
      "    there is at least one character in the string.\n",
      "\n",
      "None\n"
     ]
    }
   ],
   "source": [
    "print(help(str.isalnum))"
   ]
  }
 ],
 "metadata": {
  "kernelspec": {
   "display_name": "Python 3",
   "language": "python",
   "name": "python3"
  },
  "language_info": {
   "codemirror_mode": {
    "name": "ipython",
    "version": 3
   },
   "file_extension": ".py",
   "mimetype": "text/x-python",
   "name": "python",
   "nbconvert_exporter": "python",
   "pygments_lexer": "ipython3",
   "version": "3.8.3"
  }
 },
 "nbformat": 4,
 "nbformat_minor": 4
}
